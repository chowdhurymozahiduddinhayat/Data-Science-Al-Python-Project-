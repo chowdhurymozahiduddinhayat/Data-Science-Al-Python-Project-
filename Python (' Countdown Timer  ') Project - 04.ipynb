{
 "cells": [
  {
   "cell_type": "code",
   "execution_count": 2,
   "id": "855ee64c",
   "metadata": {},
   "outputs": [],
   "source": [
    "import time"
   ]
  },
  {
   "cell_type": "code",
   "execution_count": 4,
   "id": "221869cf",
   "metadata": {},
   "outputs": [
    {
     "name": "stdout",
     "output_type": "stream",
     "text": [
      "Enter the time in seconds: 70\n",
      "01:10\n",
      "01:09\n",
      "01:08\n",
      "01:07\n",
      "01:06\n",
      "01:05\n",
      "01:04\n",
      "01:03\n",
      "01:02\n",
      "01:01\n",
      "01:00\n",
      "00:59\n",
      "00:58\n",
      "00:57\n",
      "00:56\n",
      "00:55\n",
      "00:54\n",
      "00:53\n",
      "00:52\n",
      "00:51\n",
      "00:50\n",
      "00:49\n",
      "00:48\n",
      "00:47\n",
      "00:46\n",
      "00:45\n",
      "00:44\n",
      "00:43\n",
      "00:42\n",
      "00:41\n",
      "00:40\n",
      "00:39\n",
      "00:38\n",
      "00:37\n",
      "00:36\n",
      "00:35\n",
      "00:34\n",
      "00:33\n",
      "00:32\n",
      "00:31\n",
      "00:30\n",
      "00:29\n",
      "00:28\n",
      "00:27\n",
      "00:26\n",
      "00:25\n",
      "00:24\n",
      "00:23\n",
      "00:22\n",
      "00:21\n",
      "00:20\n",
      "00:19\n",
      "00:18\n",
      "00:17\n",
      "00:16\n",
      "00:15\n",
      "00:14\n",
      "00:13\n",
      "00:12\n",
      "00:11\n",
      "00:10\n",
      "00:09\n",
      "00:08\n",
      "00:07\n",
      "00:06\n",
      "00:05\n",
      "00:04\n",
      "00:03\n",
      "00:02\n",
      "00:01\n",
      "Lift off!\n"
     ]
    }
   ],
   "source": [
    "def countdown(t):\n",
    "\n",
    "    while t:\n",
    "\n",
    "        mins, secs = divmod(t, 60)\n",
    "\n",
    "        timer = '{:02d}:{:02d}'.format(mins, secs)\n",
    "\n",
    "        print(timer, end=\"\\n\")\n",
    "\n",
    "        time.sleep(1)\n",
    "\n",
    "        t -= 1\n",
    "\n",
    "    print('Lift off!')\n",
    "\n",
    "t = input(\"Enter the time in seconds: \")\n",
    "\n",
    "countdown(int(t))"
   ]
  },
  {
   "cell_type": "code",
   "execution_count": null,
   "id": "434f4736",
   "metadata": {},
   "outputs": [],
   "source": []
  },
  {
   "cell_type": "code",
   "execution_count": null,
   "id": "eb9d8d91",
   "metadata": {},
   "outputs": [],
   "source": []
  },
  {
   "cell_type": "code",
   "execution_count": null,
   "id": "769128c2",
   "metadata": {},
   "outputs": [],
   "source": []
  },
  {
   "cell_type": "code",
   "execution_count": null,
   "id": "1c4583e3",
   "metadata": {},
   "outputs": [],
   "source": []
  },
  {
   "cell_type": "code",
   "execution_count": null,
   "id": "e6872f6a",
   "metadata": {},
   "outputs": [],
   "source": []
  },
  {
   "cell_type": "code",
   "execution_count": null,
   "id": "dbf35fec",
   "metadata": {},
   "outputs": [],
   "source": []
  },
  {
   "cell_type": "code",
   "execution_count": null,
   "id": "3db11d85",
   "metadata": {},
   "outputs": [],
   "source": []
  },
  {
   "cell_type": "code",
   "execution_count": null,
   "id": "d680ffa6",
   "metadata": {},
   "outputs": [],
   "source": []
  },
  {
   "cell_type": "code",
   "execution_count": null,
   "id": "f5df8a52",
   "metadata": {},
   "outputs": [],
   "source": []
  }
 ],
 "metadata": {
  "kernelspec": {
   "display_name": "Python 3 (ipykernel)",
   "language": "python",
   "name": "python3"
  },
  "language_info": {
   "codemirror_mode": {
    "name": "ipython",
    "version": 3
   },
   "file_extension": ".py",
   "mimetype": "text/x-python",
   "name": "python",
   "nbconvert_exporter": "python",
   "pygments_lexer": "ipython3",
   "version": "3.9.13"
  }
 },
 "nbformat": 4,
 "nbformat_minor": 5
}
