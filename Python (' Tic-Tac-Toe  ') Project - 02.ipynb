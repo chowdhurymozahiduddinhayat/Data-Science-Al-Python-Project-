{
 "cells": [
  {
   "cell_type": "code",
   "execution_count": 1,
   "id": "a3286bda",
   "metadata": {},
   "outputs": [],
   "source": [
    "board = [' ' for x in range(10)]"
   ]
  },
  {
   "cell_type": "code",
   "execution_count": 2,
   "id": "bf5155b1",
   "metadata": {},
   "outputs": [],
   "source": [
    "def insertLetter(letter,pos):\n",
    "    board[pos] = letter"
   ]
  },
  {
   "cell_type": "code",
   "execution_count": 3,
   "id": "17a6a541",
   "metadata": {},
   "outputs": [],
   "source": [
    "def spaceIsFree(pos):\n",
    "    return board[pos] == ' '"
   ]
  },
  {
   "cell_type": "code",
   "execution_count": 4,
   "id": "a0c4485c",
   "metadata": {},
   "outputs": [],
   "source": [
    "def printBoard(board):\n",
    "    print('   |   |   ')\n",
    "    print(' ' + board[1] + ' | ' + board[2] + ' | ' + board[3])\n",
    "    print('   |   |   ')\n",
    "    print('------------')\n",
    "    print('   |   |   ')\n",
    "    print(' ' + board[4] + ' | ' + board[5] + ' | ' + board[6])\n",
    "    print('   |   |   ')\n",
    "    print('------------')\n",
    "    print('   |   |   ')\n",
    "    print(' ' + board[7] + ' | ' + board[8] + ' | ' + board[9])\n",
    "    print('   |   |   ')"
   ]
  },
  {
   "cell_type": "code",
   "execution_count": 5,
   "id": "46f1c2b4",
   "metadata": {},
   "outputs": [],
   "source": [
    "def isBoardFull(board):\n",
    "    if board.count(' ') > 1:\n",
    "        return False\n",
    "    else:\n",
    "        return True"
   ]
  },
  {
   "cell_type": "code",
   "execution_count": 6,
   "id": "92d07d91",
   "metadata": {},
   "outputs": [],
   "source": [
    "def IsWinner(b,l):\n",
    "    return ((b[1] == l and b[2] == l and b[3] == l) or\n",
    "    (b[4] == l and b[5] == l and b[6] == l) or\n",
    "    (b[7] == l and b[8] == l and b[9] == l) or\n",
    "    (b[1] == l and b[4] == l and b[7] == l) or\n",
    "    (b[2] == l and b[5] == l and b[8] == l) or\n",
    "    (b[3] == l and b[6] == l and b[9] == l) or\n",
    "    (b[1] == l and b[5] == l and b[9] == l) or\n",
    "    (b[3] == l and b[5] == l and b[7] == l))"
   ]
  },
  {
   "cell_type": "code",
   "execution_count": 7,
   "id": "79cff355",
   "metadata": {},
   "outputs": [],
   "source": [
    "def playerMove():\n",
    "    run = True\n",
    "    while run:\n",
    "        move = input(\"please select a position to enter the X between 1 to 9\")\n",
    "        try:\n",
    "            move = int(move)\n",
    "            if move > 0 and move < 10:\n",
    "                if spaceIsFree(move):\n",
    "                    run = False\n",
    "                    insertLetter('X' , move)\n",
    "                else:\n",
    "                    print('Sorry, this space is occupied')\n",
    "            else:\n",
    "                print('please type a number between 1 and 9')\n",
    "\n",
    "        except:\n",
    "            print('Please type a number')"
   ]
  },
  {
   "cell_type": "code",
   "execution_count": 8,
   "id": "cf9b3f40",
   "metadata": {},
   "outputs": [],
   "source": [
    "def computerMove():\n",
    "    possibleMoves = [x for x , letter in enumerate(board) if letter == ' ' and x != 0  ]\n",
    "    move = 0\n",
    "\n",
    "    for let in ['O' , 'X']:\n",
    "        for i in possibleMoves:\n",
    "            boardcopy = board[:]\n",
    "            boardcopy[i] = let\n",
    "            if IsWinner(boardcopy, let):\n",
    "                move = i\n",
    "                return move\n",
    "\n",
    "    cornersOpen = []\n",
    "    for i in possibleMoves:\n",
    "        if i in [1 , 3 , 7 , 9]:\n",
    "            cornersOpen.append(i)\n",
    "\n",
    "    if len(cornersOpen) > 0:\n",
    "        move = selectRandom(cornersOpen)\n",
    "        return move\n",
    "\n",
    "    if 5 in possibleMoves:\n",
    "        move = 5\n",
    "        return move\n",
    "\n",
    "    edgesOpen = []\n",
    "    for i in possibleMoves:\n",
    "        if i in [2,4,6,8]:\n",
    "            edgesOpen.append(i)\n",
    "\n",
    "    if len(edgesOpen) > 0:\n",
    "        move = selectRandom(edgesOpen)\n",
    "        return move"
   ]
  },
  {
   "cell_type": "code",
   "execution_count": 9,
   "id": "e4def672",
   "metadata": {},
   "outputs": [],
   "source": [
    "def selectRandom(li):\n",
    "    import random\n",
    "    ln = len(li)\n",
    "    r = random.randrange(0,ln)\n",
    "    return li[r]"
   ]
  },
  {
   "cell_type": "code",
   "execution_count": 10,
   "id": "86eba7c5",
   "metadata": {},
   "outputs": [],
   "source": [
    "def main():\n",
    "    print(\"Welcome to the game!\")\n",
    "    printBoard(board)\n",
    "\n",
    "    while not(isBoardFull(board)):\n",
    "        if not(IsWinner(board , 'O')):\n",
    "            playerMove()\n",
    "            printBoard(board)\n",
    "        else:\n",
    "            print(\"sorry you loose!\")\n",
    "            break\n",
    "\n",
    "        if not(IsWinner(board , 'X')):\n",
    "            move = computerMove()\n",
    "            if move == 0:\n",
    "                print(\" \")\n",
    "            else:\n",
    "                insertLetter('O' , move)\n",
    "                print('computer placed an o on position' , move , ':')\n",
    "                printBoard(board)\n",
    "        else:\n",
    "            print(\"you win!\")\n",
    "            break\n",
    "\n",
    "\n",
    "\n",
    "    if isBoardFull(board):\n",
    "        print(\"Tie game\")"
   ]
  },
  {
   "cell_type": "code",
   "execution_count": 11,
   "id": "f4703ce5",
   "metadata": {},
   "outputs": [
    {
     "name": "stdout",
     "output_type": "stream",
     "text": [
      "Do you want to play again? (y/n)n\n"
     ]
    }
   ],
   "source": [
    "while True:\n",
    "    x = input(\"Do you want to play again? (y/n)\")\n",
    "    if x.lower() == 'y':\n",
    "        board = [' ' for x in range(10)]\n",
    "        print('--------------------')\n",
    "        main()\n",
    "    else:\n",
    "        break"
   ]
  },
  {
   "cell_type": "code",
   "execution_count": null,
   "id": "a4ec0176",
   "metadata": {},
   "outputs": [],
   "source": []
  }
 ],
 "metadata": {
  "kernelspec": {
   "display_name": "Python 3 (ipykernel)",
   "language": "python",
   "name": "python3"
  },
  "language_info": {
   "codemirror_mode": {
    "name": "ipython",
    "version": 3
   },
   "file_extension": ".py",
   "mimetype": "text/x-python",
   "name": "python",
   "nbconvert_exporter": "python",
   "pygments_lexer": "ipython3",
   "version": "3.9.13"
  }
 },
 "nbformat": 4,
 "nbformat_minor": 5
}
